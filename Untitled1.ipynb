{
  "nbformat": 4,
  "nbformat_minor": 0,
  "metadata": {
    "colab": {
      "private_outputs": true,
      "provenance": []
    },
    "kernelspec": {
      "name": "python3",
      "display_name": "Python 3"
    },
    "language_info": {
      "name": "python"
    }
  },
  "cells": [
    {
      "cell_type": "code",
      "execution_count": null,
      "metadata": {
        "id": "8aeX-fg3aJ5Y"
      },
      "outputs": [],
      "source": [
        "is_dscourse = \"true\"\n",
        "if is_dscourse:\n",
        "  print(\"I am studying\")\n",
        "else:\n",
        "  print(\"I am playing criket\")\n"
      ]
    },
    {
      "cell_type": "code",
      "source": [
        "x = input(\"enter no.\")\n",
        "if x >= \"5\":\n",
        "  print(\"no. is greater  than and equal 5\")\n",
        "else:\n",
        "  print(\"no. is less than 5\")"
      ],
      "metadata": {
        "id": "mJFrvsxIkL0T"
      },
      "execution_count": null,
      "outputs": []
    },
    {
      "cell_type": "code",
      "source": [
        "num = 15\n",
        "if num % 2 == 0:\n",
        "  print(\"no. is even\")\n",
        "else:\n",
        "  print(\"no. is odd\") # str or int problem"
      ],
      "metadata": {
        "id": "1Dz1XVTwoZ39"
      },
      "execution_count": null,
      "outputs": []
    },
    {
      "cell_type": "markdown",
      "source": [],
      "metadata": {
        "id": "DBuiXipokMAy"
      }
    },
    {
      "cell_type": "code",
      "source": [
        "a = int(input( \"enter value of a :\"))\n",
        "if  1000 > a >= 100:\n",
        "  print(\"the value of a greater than a\")\n",
        "elif a >= 1000:\n",
        "    print(\"the value of a is huge\")\n",
        "else:\n",
        "  print(\"the value of a is less than a\")"
      ],
      "metadata": {
        "id": "Y_2pxTX_qqI0"
      },
      "execution_count": null,
      "outputs": []
    },
    {
      "cell_type": "code",
      "source": [
        "score = int(input(\"Enter your score\"))\n",
        "A = 10\n",
        "if score >= 90:\n",
        "  print(\"Grade A\")\n",
        "elif  80< score< 90:\n",
        "  print(\"Grade B\")\n",
        "elif  60 <= score <=70:\n",
        "  print(\"Grade c\")\n",
        "elif  50 < score < 60:\n",
        "  print(\"Grade D\")\n",
        "elif score < 33.33:\n",
        "  print (\"fail\")\n",
        "else:\n",
        "  print(\"Grade F\")"
      ],
      "metadata": {
        "id": "9sJpV24Yzis3"
      },
      "execution_count": null,
      "outputs": []
    },
    {
      "cell_type": "code",
      "source": [
        "x = 6\n",
        "y = 8\n",
        "if x > 5:\n",
        "  if y > 5:\n",
        "    print(\"both value of x and y are greater than 5\")\n",
        "  else:\n",
        "    print(\"value of x greater than 5 but value of y is not greater than 5\")\n",
        "else:\n",
        "  print(\"value of x is not greater than 5\")\n"
      ],
      "metadata": {
        "id": "B04bdbdN4V_q"
      },
      "execution_count": null,
      "outputs": []
    },
    {
      "cell_type": "code",
      "source": [
        "Name = input(\"please enter your name\")\n",
        "email_id = input(\"please enter your email id\")\n",
        "password = input(\"please enter your password\")\n",
        "if (Name == \"\"):\n",
        "  print(\"enter your valid name\")\n",
        "else:\n",
        "  if \"@\" not in email_id:\n",
        "    print(\"please enter a valid email id \")\n",
        "  else:\n",
        "    if len(password) <= 0:\n",
        "      print(\"please enter valid password\")\n",
        "    else:\n",
        "      print(\"your registeration is succesfull\")"
      ],
      "metadata": {
        "id": "J_4mRUoJRrUL"
      },
      "execution_count": null,
      "outputs": []
    }
  ]
}